{
 "cells": [
  {
   "cell_type": "code",
   "execution_count": 6,
   "metadata": {},
   "outputs": [
    {
     "data": {
      "text/plain": [
       "Dataset({\n",
       "    features: ['pubid', 'question', 'context', 'long_answer', 'final_decision'],\n",
       "    num_rows: 100\n",
       "})"
      ]
     },
     "execution_count": 6,
     "metadata": {},
     "output_type": "execute_result"
    }
   ],
   "source": [
    "from datasets import load_dataset\n",
    "\n",
    "split = \"train\"\n",
    "num_examples = 100\n",
    "dataset = load_dataset(\"qiaojin/PubMedQA\", \"pqa_artificial\", split=split).select(range(num_examples))\n",
    "dataset"
   ]
  },
  {
   "cell_type": "code",
   "execution_count": 7,
   "metadata": {},
   "outputs": [
    {
     "name": "stdout",
     "output_type": "stream",
     "text": [
      "['Are group 2 innate lymphoid cells ( ILC2s ) increased in chronic rhinosinusitis with nasal polyps or eosinophilia?', 'Does vagus nerve contribute to the development of steatohepatitis and obesity in phosphatidylethanolamine N-methyltransferase deficient mice?', 'Does psammaplin A induce Sirtuin 1-dependent autophagic cell death in doxorubicin-resistant MCF-7/adr human breast cancer cells and xenografts?', 'Is methylation of the FGFR2 gene associated with high birth weight centile in humans?', 'Do tumor-infiltrating immune cell profiles and their change after neoadjuvant chemotherapy predict response and prognosis of breast cancer?', 'Is hidradenitis suppurativa a systemic disease with substantial comorbidity burden : a chart-verified case-control analysis?', 'Does reference range for serum and salivary testosterone in young men of Mediterranean region?', 'Are secretory phospholipases A2 secreted from ciliated cells and increase mucin and eicosanoid secretion from goblet cells?', 'Is admission hyperglycemia associated with failed reperfusion following fibrinolytic therapy in patients with STEMI : results of a retrospective study?', 'Do systematic Reviews Published in Emergency Medicine Journals Routinely Search Clinical Trials Registries : A Cross-Sectional Analysis?', 'Do obese patients with idiopathic pulmonary fibrosis have a higher 90-day mortality risk with bilateral lung transplantation?', 'Does promoter variant rs2301228 on the neural cell adhesion molecule 1 gene confer risk of schizophrenia in Han Chinese?', 'Are [ Higher nitric oxide levels associated with disease activity in Egyptian rheumatoid arthritis patients ]?', 'Does increased Syk phosphorylation lead to overexpression of TRAF6 in peripheral B cells of patients with systemic lupus erythematosus?', 'Are reasons why erupted third molars extracted in a public university in Mexico?', 'Does the Boston keratoprosthesis provide a wide depth of focus?', 'Do large portion sizes increase bite size and eating rate in overweight women?', 'Are routine preoperative restaging CTs after neoadjuvant chemoradiation for locally advanced rectal cancer low yield : a retrospective case study?', 'Does pancreatic polypeptide regulate glucagon release through PPYR1 receptors expressed in mouse and human alpha-cells?', 'Do two decades of British newspaper coverage regarding attempt cardiopulmonary resuscitation decisions : Lessons for clinicians?', 'Is increased time from neoadjuvant chemoradiation to surgery associated with higher pathologic complete response rates in esophageal cancer?', 'Is epileptic focus localization based on resting state interictal MEG recordings feasible irrespective of the presence or absence of spikes?', 'Does seminal Helicobacter pylori treatment improve sperm motility in infertile asthenozoospermic men?', 'Does a migrating ciliary gate compartmentalize the site of axoneme assembly in Drosophila spermatids?', 'Is individual Public Transportation Accessibility Positively Associated with Self-Reported Active Commuting?', 'Is congenital penile pathology associated with abnormal development of the dartos muscle : a prospective study of primary penile surgery at a tertiary referral center?', 'Is δNp63 expression a protective factor of progression in clinical high grade T1 bladder cancer?', 'Do high levels of procalcitonin in the early phase after pediatric liver transplantation indicate poor postoperative outcome?', 'Is decreased expression of liver-type fatty acid-binding protein associated with poor prognosis in hepatocellular carcinoma?', 'Does ephrin type-B receptor 4 activation reduce neointimal hyperplasia in human saphenous vein in vitro?', 'Are low serum levels of vitamin D associated with post-stroke depression?', \"Are polymorphisms near TBX5 and GDF7 associated with increased risk for Barrett 's esophagus?\", 'Does danzhi Xiaoyao San ameliorate depressive-like behavior by shifting toward serotonin via the downregulation of hippocampal indoleamine 2,3-dioxygenase?', 'Is p63 more sensitive and specific than 34βE12 to differentiate adenocarcinoma of prostate from cancer mimickers?', 'Does poor sleep predict symptoms of depression and disability retirement due to depression?', 'Are phospholipase C epsilon 1 ( PLCE1 ) haplotypes associated with increased risk of gastric cancer in Kashmir Valley?', 'Is tGFBI Expression in Cancer Stromal Cells Associated with Poor Prognosis and Hematogenous Recurrence in Esophageal Squamous Cell Carcinoma?', 'Are autoimmune features associated with chronic antibiotic-refractory pouchitis?', 'Does identical ATP1A3 mutation cause alternating hemiplegia of childhood and rapid-onset dystonia parkinsonism phenotypes?', 'Does metabolic control analysis of the Trypanosoma cruzi peroxide detoxification pathway identify tryparedoxin as a suitable drug target?', 'Is basal Flt1 tyrosine kinase activity a positive regulator of endothelial survival and vascularization during zebrafish embryogenesis?', 'Do immunizations with hepatitis B viral antigens and a TLR7/8 agonist adjuvant induce antigen-specific immune responses in HBV-transgenic mice?', 'Are lobar microbleeds associated with a decline in executive functioning in older adults?', 'Is self-reported physical activity in smoking pre-cessation a protective factor against relapse for all?', 'Is breathlessness at rest the dominant presentation of patients admitted with heart failure?', 'Is delayed duodenal stump blow-out following total gastrectomy for cancer : Heightened awareness for the continued presence of the surgical past in the present the key to a successful duodenal stump disruption management . A case report?', 'Are lipoprotein phospholipase A2 mass and activity associated with the diagnosis of acute brain ischemia?', 'Is osteoprotegerin associated with subclinical left ventricular systolic dysfunction in diabetic hypertensive patients : a speckle tracking study?', 'Do a new model for the standardization of experimental burn wounds?', 'Does circulating atrial natriuretic peptide genetic association study identify a novel gene cluster associated with stroke in whites?', 'Do whole-genome sequencing and epidemiological analysis provide evidence for cross-transmission of mycobacterium abscessus in a cohort of pediatric cystic fibrosis patients?', 'Are high Atopobium vaginae and Gardnerella vaginalis vaginal loads associated with preterm birth?', 'Is cD30 expression a novel prognostic indicator in extranodal natural killer/T-cell lymphoma , nasal type?', 'Do [ Clinical study on continuous plasma filtration absorption treatment for burn sepsis ]?', 'Do [ Perinatal variables from newborns of Aymara mothers suggest a genetic adaptation to high altitude ]?', 'Is 25-hydroxyvitamin D status associated with chronic cerebral small vessel disease?', 'Is cD133-positive tumor cell content a predictor of early recurrence in colorectal cancer?', 'Does traumatic brain injury induce neuroinflammation and neuronal degeneration that is associated with escalated alcohol self-administration in rats?', 'Does maternal undernutrition induce premature reproductive senescence in adult female rat offspring?', 'Does granulocyte colony-stimulating factor prevent loss of spermatogenesis after sterilizing busulfan chemotherapy?', 'Is saikosaponin b2 a naturally occurring terpenoid that efficiently inhibits hepatitis C virus entry?', 'Does autotaxin activity have a high accuracy to diagnose intrahepatic cholestasis of pregnancy?', 'Does a dedicated research program increase the quantity and quality of orthopaedic resident publications?', 'Does cationic Nanogel-mediated Runx2 and Osterix siRNA Delivery decrease Mineralization in MC3T3 Cells?', 'Do no sex differences exist in posterior condylar offsets of the knee?', 'Do gene polymorphisms of stress hormone and cytokine receptors associate with immunomodulatory profile and psychological measurement?', 'Does housing temperature influence the pattern of heat shock protein induction in mice following mild whole body hyperthermia?', 'Does intra-articular injection of synthetic microRNA-210 accelerate avascular meniscal healing in rat medial meniscal injured model?', 'Does pRMT5 enhance generation of induced pluripotent stem cells from dairy goat embryonic fibroblasts via down-regulation of p53?', 'Do minimally invasive retroperitoneoscopic surgery for psoas abscess with thoracolumbar tuberculosis?', 'Is cartilage thickness at the posterior medial femoral condyle increased in femorotibial knee osteoarthritis : a cross-sectional CT arthrography study ( Part 2 )?', 'Does loss of Frzb and Sfrp1 differentially affect joint homeostasis in instability-induced osteoarthritis?', 'Does tetraploid complementation prove pluripotency of induced pluripotent stem cells derived from adipose tissue?', 'Does implementation of the acute care surgery model provide benefits in the surgical treatment of the acute appendicitis?', 'Is radiofrequency ablation plus devascularization the preferred treatment of hepatocellular carcinoma with esophageal varices?', 'Is enhancement of in vitro activity of tuberculosis drugs by addition of thioridazine reflected by improved in vivo therapeutic efficacy?', 'Do youth walking and biking rates vary by environments around 5 Louisiana schools?', 'Does blockade of Central Angiotensin II AT1 Receptor protect the Brain from Ischemia/Reperfusion Injury in Normotensive Rats?', 'Does syngap1 haploinsufficiency damage a postnatal critical period of pyramidal cell structural maturation linked to cortical circuit assembly?', 'Is pentraxin 3 reduced in bipolar disorder?', 'Are human enteroviruses the cause of neurological impairments in children at the Korle-Bu Teaching Hospital?', 'Does a whole blood-based perfusate provide superior preservation of myocardial function during ex vivo heart perfusion?', 'Is elevated immune monitoring early after cardiac transplantation associated with increased plaque progression by intravascular ultrasound?', 'Are successional changes in the chicken cecal microbiome during 42 days of growth independent of organic acid feed additives?', 'Does resveratrol enhance palmitate-induced ER stress and apoptosis in cancer cells?', 'Is cDK1 and CDK2 activity a strong predictor of renal cell carcinoma recurrence?', 'Is torsion of the optic nerve head a prominent feature of normal-tension glaucoma?', \"Is endo first appropriate in some patients with critical limb ischemia because `` bridges are burned ''?\", 'Is unrecognized arteriosclerosis associated with wound complications after below-knee amputation?', 'Does hydrogen sulfide reduce inflammation following abdominal aortic occlusion in rats?', 'Do seed bank dynamics govern persistence of Brassica hybrids in crop and natural habitats?', 'Is actinic keratosis with atypical basal cells ( AK I ) the most common lesion associated with invasive squamous cell carcinoma of the skin?', 'Does high-intensity intermittent exercise increase pulmonary interstitial edema at altitude but not at simulated altitude?', 'Does mild cognitive dysfunction affect diabetes mellitus control in minority elderly adults?', 'Are anti-high mobility group box 1 ( anti-HMGB1 ) antibodies related to the occurrence of cutaneous lesions in systemic lupus erythematosus?', 'Does alcohol disrupt levels and function of the cystic fibrosis transmembrane conductance regulator to promote development of pancreatitis?', 'Does blood viscosity but not shear stress associate with delayed flow-mediated dilation?', 'Does hypercholesterolemia increase the production of leukotriene B4 in neutrophils by enhancing the nuclear localization of 5-lipoxygenase?', 'Do molecular signatures of mood stabilisers highlight the role of the transcription factor REST/NRSF?', 'Does preconditioning of skeletal myoblast-based engineered tissue constructs enable functional coupling to myocardium in vivo?']\n"
     ]
    }
   ],
   "source": [
    "ques_col = dataset[\"question\"]\n",
    "print(ques_col)"
   ]
  }
 ],
 "metadata": {
  "kernelspec": {
   "display_name": "llm_uncer",
   "language": "python",
   "name": "python3"
  },
  "language_info": {
   "codemirror_mode": {
    "name": "ipython",
    "version": 3
   },
   "file_extension": ".py",
   "mimetype": "text/x-python",
   "name": "python",
   "nbconvert_exporter": "python",
   "pygments_lexer": "ipython3",
   "version": "3.9.20"
  }
 },
 "nbformat": 4,
 "nbformat_minor": 2
}
