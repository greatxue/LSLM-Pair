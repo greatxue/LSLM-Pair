{
 "cells": [
  {
   "cell_type": "code",
   "execution_count": 1,
   "metadata": {},
   "outputs": [
    {
     "name": "stderr",
     "output_type": "stream",
     "text": [
      "/home/wenhao/.conda/envs/llm_uncer/lib/python3.9/site-packages/tqdm/auto.py:21: TqdmWarning: IProgress not found. Please update jupyter and ipywidgets. See https://ipywidgets.readthedocs.io/en/stable/user_install.html\n",
      "  from .autonotebook import tqdm as notebook_tqdm\n"
     ]
    }
   ],
   "source": [
    "import torch\n",
    "from transformers import AutoModelForCausalLM, AutoTokenizer\n",
    "\n",
    "class HuggingFaceModel:\n",
    "    def __init__(self, model, tokenizer):\n",
    "        self.model = AutoModelForCausalLM.from_pretrained(model, device_map=0)\n",
    "        self.tokenizer = AutoTokenizer.from_pretrained(tokenizer, padding_side=\"left\")\n",
    "        self.tokenizer.pad_token = self.tokenizer.eos_token\n",
    "\n",
    "    def generate_text(self, prompt, **generate_kwargs):\n",
    "        model_inputs = self.tokenizer(prompt, return_tensors=\"pt\", padding=True).to(\n",
    "            \"cuda\"\n",
    "        )\n",
    "        with torch.no_grad():\n",
    "            generated_ids = self.model.generate(\n",
    "                **model_inputs,\n",
    "                **generate_kwargs,\n",
    "                do_sample=False,\n",
    "                temperature=None,\n",
    "                top_p=None,\n",
    "                top_k=None,\n",
    "                max_new_tokens=1024,\n",
    "            )\n",
    "        generated_texts = self.tokenizer.batch_decode(\n",
    "            generated_ids[:, model_inputs.input_ids.shape[1] :],\n",
    "            skip_special_tokens=True,\n",
    "        )\n",
    "        return generated_texts"
   ]
  },
  {
   "cell_type": "code",
   "execution_count": 2,
   "metadata": {},
   "outputs": [
    {
     "name": "stderr",
     "output_type": "stream",
     "text": [
      "Setting `pad_token_id` to `eos_token_id`:None for open-end generation.\n"
     ]
    },
    {
     "name": "stdout",
     "output_type": "stream",
     "text": [
      "\n",
      "Solve the following problem step by step and provide the final answer:\n",
      "If a train travels at a speed of 60 mph for 2 hours, how far does it travel?\n",
      "To solve this problem, we can use the formula:\n",
      "\n",
      "Distance = Speed × Time\n",
      "\n",
      "In this case, the speed is 60 mph and the time is 2 hours. Plugging these values into the formula, we get:\n",
      "\n",
      "Distance = 60 mph × 2 hours\n",
      "\n",
      "Now, we can solve for the distance:\n",
      "\n",
      "Distance = 120 miles\n",
      "\n",
      "Therefore, the train travels 120 miles in 2 hours.\n"
     ]
    }
   ],
   "source": [
    "# 模型和分词器初始化\n",
    "model_name = \"Qwen/Qwen2-1.5B\"\n",
    "model = AutoModelForCausalLM.from_pretrained(model_name, device_map=0)\n",
    "tokenizer = AutoTokenizer.from_pretrained(model_name, padding_side=\"left\")\n",
    "tokenizer.pad_token = tokenizer.eos_token\n",
    "\n",
    "# 问题和提示模板\n",
    "question = \"If a train travels at a speed of 60 mph for 2 hours, how far does it travel?\"\n",
    "prompt_template = \"\"\"\n",
    "Solve the following problem step by step and provide the final answer:\n",
    "{}\n",
    "\"\"\"\n",
    "prompt = prompt_template.format(question)\n",
    "\n",
    "# Tokenize and generate model output\n",
    "model_inputs = tokenizer(prompt, return_tensors=\"pt\", padding=True).to(\"cuda\")\n",
    "with torch.no_grad():\n",
    "    generated_ids = model.generate(**model_inputs, max_new_tokens=200, do_sample=False)\n",
    "generated_text = tokenizer.decode(generated_ids[0], skip_special_tokens=True)\n",
    "print(generated_text)"
   ]
  },
  {
   "cell_type": "code",
   "execution_count": 3,
   "metadata": {},
   "outputs": [
    {
     "name": "stderr",
     "output_type": "stream",
     "text": [
      "Loading checkpoint shards:   0%|          | 0/4 [00:00<?, ?it/s]"
     ]
    },
    {
     "name": "stderr",
     "output_type": "stream",
     "text": [
      "Loading checkpoint shards: 100%|██████████| 4/4 [00:07<00:00,  1.91s/it]\n",
      "Setting `pad_token_id` to `eos_token_id`:None for open-end generation.\n"
     ]
    },
    {
     "name": "stdout",
     "output_type": "stream",
     "text": [
      "\n",
      "Solve the following problem step by step and provide the final answer:\n",
      "If a train travels at a speed of 60 mph for 2 hours, how far does it travel?\n",
      "To solve this problem, we need to use the formula for distance, which is:\n",
      "\n",
      "Distance = Speed x Time\n",
      "\n",
      "In this case, the speed of the train is 60 mph and the time it travels is 2 hours. So, we can plug these values into the formula:\n",
      "\n",
      "Distance = 60 mph x 2 hours\n",
      "\n",
      "Distance = 120 miles\n",
      "\n",
      "Therefore, the train travels 120 miles in 2 hours.\n"
     ]
    }
   ],
   "source": [
    "# 模型和分词器初始化\n",
    "model_name = \"Qwen/Qwen2-7B\"\n",
    "model = AutoModelForCausalLM.from_pretrained(model_name, device_map=0)\n",
    "tokenizer = AutoTokenizer.from_pretrained(model_name, padding_side=\"left\")\n",
    "tokenizer.pad_token = tokenizer.eos_token\n",
    "\n",
    "# 问题和提示模板\n",
    "question = \"If a train travels at a speed of 60 mph for 2 hours, how far does it travel?\"\n",
    "prompt_template = \"\"\"\n",
    "Solve the following problem step by step and provide the final answer:\n",
    "{}\n",
    "\"\"\"\n",
    "prompt = prompt_template.format(question)\n",
    "\n",
    "# Tokenize and generate model output\n",
    "model_inputs = tokenizer(prompt, return_tensors=\"pt\", padding=True).to(\"cuda\")\n",
    "with torch.no_grad():\n",
    "    generated_ids = model.generate(**model_inputs, max_new_tokens=200, do_sample=False)\n",
    "generated_text = tokenizer.decode(generated_ids[0], skip_special_tokens=True)\n",
    "print(generated_text)"
   ]
  },
  {
   "cell_type": "code",
   "execution_count": 5,
   "metadata": {},
   "outputs": [
    {
     "name": "stderr",
     "output_type": "stream",
     "text": [
      "Unused kwargs: ['_load_in_4bit', '_load_in_8bit', 'quant_method']. These kwargs are not used in <class 'transformers.utils.quantization_config.BitsAndBytesConfig'>.\n"
     ]
    },
    {
     "name": "stdout",
     "output_type": "stream",
     "text": [
      "\n",
      "Solve the following problem step by step and provide the final answer:\n",
      "If a train travels at a speed of 60 mph for 2 hours, how far does it travel?\n",
      "\n",
      "\n"
     ]
    }
   ],
   "source": [
    "# 模型和分词器初始化\n",
    "model_name = \"themanas021/phi-3-medical-instruct-themanas\"\n",
    "model = AutoModelForCausalLM.from_pretrained(model_name, device_map=0)\n",
    "tokenizer = AutoTokenizer.from_pretrained(model_name, padding_side=\"left\")\n",
    "tokenizer.pad_token = tokenizer.eos_token\n",
    "\n",
    "# 问题和提示模板\n",
    "question = \"If a train travels at a speed of 60 mph for 2 hours, how far does it travel?\"\n",
    "prompt_template = \"\"\"\n",
    "Solve the following problem step by step and provide the final answer:\n",
    "{}\n",
    "\"\"\"\n",
    "prompt = prompt_template.format(question)\n",
    "\n",
    "# Tokenize and generate model output\n",
    "model_inputs = tokenizer(prompt, return_tensors=\"pt\", padding=True).to(\"cuda\")\n",
    "with torch.no_grad():\n",
    "    generated_ids = model.generate(**model_inputs, max_new_tokens=200, do_sample=False)\n",
    "generated_text = tokenizer.decode(generated_ids[0], skip_special_tokens=True)\n",
    "print(generated_text)"
   ]
  }
 ],
 "metadata": {
  "kernelspec": {
   "display_name": "llm_uncer",
   "language": "python",
   "name": "python3"
  },
  "language_info": {
   "codemirror_mode": {
    "name": "ipython",
    "version": 3
   },
   "file_extension": ".py",
   "mimetype": "text/x-python",
   "name": "python",
   "nbconvert_exporter": "python",
   "pygments_lexer": "ipython3",
   "version": "3.9.20"
  }
 },
 "nbformat": 4,
 "nbformat_minor": 2
}
