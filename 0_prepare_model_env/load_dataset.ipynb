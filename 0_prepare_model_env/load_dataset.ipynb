{
 "cells": [
  {
   "cell_type": "code",
   "execution_count": 1,
   "metadata": {},
   "outputs": [
    {
     "name": "stderr",
     "output_type": "stream",
     "text": [
      "/home/wenhao/.conda/envs/llm_uncer/lib/python3.9/site-packages/tqdm/auto.py:21: TqdmWarning: IProgress not found. Please update jupyter and ipywidgets. See https://ipywidgets.readthedocs.io/en/stable/user_install.html\n",
      "  from .autonotebook import tqdm as notebook_tqdm\n"
     ]
    }
   ],
   "source": [
    "from datasets import load_dataset"
   ]
  },
  {
   "cell_type": "code",
   "execution_count": null,
   "metadata": {},
   "outputs": [
    {
     "data": {
      "text/plain": [
       "Dataset({\n",
       "    features: ['id', 'question', 'opa', 'opb', 'opc', 'opd', 'cop', 'choice_type', 'exp', 'subject_name', 'topic_name'],\n",
       "    num_rows: 100\n",
       "})"
      ]
     },
     "execution_count": 4,
     "metadata": {},
     "output_type": "execute_result"
    }
   ],
   "source": [
    "num_examples = 100\n",
    "dataset = load_dataset(\"openlifescienceai/medmcqa\", split=\"train\").select(range(num_examples))\n",
    "dataset"
   ]
  },
  {
   "cell_type": "code",
   "execution_count": 5,
   "metadata": {},
   "outputs": [
    {
     "name": "stdout",
     "output_type": "stream",
     "text": [
      "[2, 2, 3, 0, 1, 2, 2, 2, 2, 2, 2, 2, 2, 0, 3, 2, 0, 0, 0, 2, 0, 2, 1, 1, 2, 1, 1, 1, 1, 0, 0, 2, 0, 2, 0, 2, 2, 0, 1, 1, 3, 3, 0, 0, 3, 0, 2, 0, 1, 2, 3, 3, 2, 0, 1, 3, 1, 3, 3, 0, 2, 0, 1, 1, 0, 0, 3, 2, 3, 0, 3, 3, 2, 0, 2, 2, 0, 3, 1, 1, 3, 0, 1, 1, 0, 2, 3, 1, 3, 2, 3, 1, 3, 0, 0, 1, 0, 1, 1, 0]\n"
     ]
    }
   ],
   "source": [
    "cop = dataset[\"cop\"]\n",
    "print(cop)"
   ]
  },
  {
   "cell_type": "code",
   "execution_count": 6,
   "metadata": {},
   "outputs": [
    {
     "name": "stdout",
     "output_type": "stream",
     "text": [
      "Data item 3 has None values in the following fields: ['topic_name']\n",
      "Data item content: {'id': 'cdeedb04-fbe9-432c-937c-d53ac24475de', 'question': 'Following endaerectomy on the right common carotid, a patient is found to be blind in the right eye. It is appears that a small thrombus embolized during surgery and lodged in the aery supplying the optic nerve. Which aery would be blocked?', 'opa': 'Central aery of the retina', 'opb': 'Infraorbital aery', 'opc': 'Lacrimal aery', 'opd': 'Nasociliary aretry', 'cop': 0, 'choice_type': 'multi', 'exp': \"The central aery of the retina is a branch of the ophthalmic aery. It is the sole blood supply to the retina; it has no significant collateral circulation and blockage of this vessel leads to blindness. The branches of this aery are what you view during a fundoscopic exam. Note: The infraorbital aery is a branch of the maxillary aery. It comes through the infraorbital foramen, inferior to the eye. It supplies the maxillary sinus, the maxillary incisors, canine and premolar teeth, and the skin of the cheek below the orbit. The supraorbital aery is another branch of the maxillary aery. It comes through the supraorbital foramen and supplies blood to the muscles, skin and fascia of the forehead. The lacrimal aery is a branch of the ophthalmic aery that supplies the lacrimal gland. The nasociliary aery doesn't exist, but there is a nasociliary nerve that travels with the ophthalmic aery. Ref: Moon D.A., Foreman K.B., Albeine K.H. (2011). Chapter 18. Orbit. In D.A. Moon, K.B. Foreman, K.H. Albeine (Eds), The Big Picture: Gross Anatomy.\", 'subject_name': 'Ophthalmology', 'topic_name': None}\n",
      "----------------------------------------\n",
      "Data item 4 has None values in the following fields: ['topic_name']\n",
      "Data item content: {'id': 'dc6794a3-b108-47c5-8b1b-3b4931577249', 'question': 'Growth hormone has its effect on growth through?', 'opa': 'Directly', 'opb': 'IG1-1', 'opc': 'Thyroxine', 'opd': 'Intranuclear receptors', 'cop': 1, 'choice_type': 'single', 'exp': \"Ans. is 'b' i.e., IGI-1GH has two major functions :-i) Growth of skeletal system :- The growth is mediated by somatomedins (IGF). Increased deposition of cailage (including chondroitin sulfate) and bone with increased proliferation of chondrocytes and osteocytes.ii) Metabolic effects :- Most of the metabolic effects are due to direct action of GH. These include gluconeogenesis, decreased peripheral utilization of glucose (decreased uptake), lipolysis and anabolic effect on proteins.\", 'subject_name': 'Physiology', 'topic_name': None}\n",
      "----------------------------------------\n",
      "Data item 5 has None values in the following fields: ['topic_name']\n",
      "Data item content: {'id': '5ab84ea8-12d1-47d4-ab22-668ebf01e64c', 'question': 'Scrub typhus is transmitted by: September 2004', 'opa': 'Louse', 'opb': 'Tick', 'opc': 'Mite', 'opd': 'Milk', 'cop': 2, 'choice_type': 'single', 'exp': 'Ans. C i.e. Mite', 'subject_name': 'Social & Preventive Medicine', 'topic_name': None}\n",
      "----------------------------------------\n",
      "Data item 6 has None values in the following fields: ['topic_name']\n",
      "Data item content: {'id': 'a83de6e4-9427-4480-b404-d96621ebb640', 'question': 'Abnormal vascular patterns seen with colposcopy in case of cervical intraepithelial neoplasia  are all except', 'opa': 'Punctation', 'opb': 'Mosaicism', 'opc': 'Satellite lesions', 'opd': 'Atypical vessels', 'cop': 2, 'choice_type': 'multi', 'exp': 'Abnormal vascular pattern include punctation, mosaicism and atypical vessels.', 'subject_name': 'Gynaecology & Obstetrics', 'topic_name': None}\n",
      "----------------------------------------\n",
      "Data item 8 has None values in the following fields: ['topic_name']\n",
      "Data item content: {'id': '73515f05-e947-4801-8077-3abdeca95c84', 'question': 'Characteristics of Remifentanyl – a) Metabolised by plasma esteraseb) Short half lifec) More potent than Alfentanyld) Dose reduced in hepatic and renal diseasee) Duration of action more than Alfentanyl', 'opa': 'ab', 'opb': 'bc', 'opc': 'abc', 'opd': 'bcd', 'cop': 2, 'choice_type': 'single', 'exp': 'Remifentanil is the shortest acting opioid due to its metabolism by plasma esterase → dose adjustment is not needed in liver or kidney disease. It is more potent than alfentanil : Order of potency is Sufentanil > Fentanyl = Remifentanil > Alfentanil.', 'subject_name': 'Anaesthesia', 'topic_name': None}\n",
      "----------------------------------------\n",
      "Data item 9 has None values in the following fields: ['topic_name']\n",
      "Data item content: {'id': '53f79833-21b0-4336-8ef4-404c687ec807', 'question': 'Hypomimia is ?', 'opa': 'Decreased ability to copy', 'opb': 'Decreased execution', 'opc': 'Deficit of expression by gesture', 'opd': 'Deficit of fluent speech', 'cop': 2, 'choice_type': 'single', 'exp': 'Ans. C. Deficit of expression by gestureHypomimiaHypomimia or amimia is a deficit or absence of expression by gesture or mimicry.This is usually most obvious as a lack of facial expressive mobility (mask - like facies).This is a feature of frontal subcoical disease.', 'subject_name': 'Psychiatry', 'topic_name': None}\n",
      "----------------------------------------\n",
      "Data item 11 has None values in the following fields: ['topic_name']\n",
      "Data item content: {'id': 'e529be7c-f360-4dba-b313-7f3fc240697a', 'question': 'Which of the following statements are True/False? 1. Hirsutism, which is defined as androgen-dependent excessive male pattern hair growth, affects approximately 25% of women. 2. Virilization refers to a condition in which androgen levels are sufficiently high to cause additional signs and symptoms. 3. Frequently, patients with growth hormone excess (i.e., acromegaly) present with hirsutism. 4. A simple and commonly used method to grade hair growth is the modified scale of Ferriman and Gallwey. 5. Scores above 8 suggest excess androgen-mediated hair growth.', 'opa': '1, 2, 3 True & 4, 5 false', 'opb': '1, 3, 5 True & 2, 4 false', 'opc': '2, 4, 5 True & 1, 3 false', 'opd': '1, 2, 3, 4 True & 5 false', 'cop': 2, 'choice_type': 'multi', 'exp': 'Here statement 1 & 3 are wrong. It is actually a direct pick from harrison, an impoant topic for entrance examinations hirsutism is seen in 10% of woman. Acromegaly rarely causes hirsutism. Ref: Harrisons Principles of Medicine, 18th Edition, Pages 380-382', 'subject_name': 'Medicine', 'topic_name': None}\n",
      "----------------------------------------\n",
      "Data item 14 has None values in the following fields: ['topic_name']\n",
      "Data item content: {'id': '35a7eac4-fd96-4184-9a5f-86bba82a5b62', 'question': 'A 60 yr old chronic smoker presents with painless gross hematuria of 1 day duration. Investigation of choice to know the cause of hematuria', 'opa': 'USG', 'opb': 'X-ray KUB', 'opc': 'Urine routine', 'opd': 'Urine microscopy for malignant cytology cells', 'cop': 3, 'choice_type': 'single', 'exp': 'Urine microscopy for malignant cytology \"Painless haematuria is by far the most common symptom of bladder cancer and should be regarded as indicative of a bladder carcinoma until proven otherwise.\" Bailey & Love 25/e p1336 (24/e p1363) Cigarette smoking is the main etiological factor and accounts ,for about 50% of bladder cancers Among the given options \\'urine microscopy\\' is the best choice for investigating a pt. with high suspicion for bladder ca. This is not a good screening test but a positive result is highly specific. The best investigation would be cystoscopy & biopsy. Investigations for bladder cancer 1. Urinary cytology - Exfoliated cells from both normal and neoplastic urothelium can be readily identified in voided urine. Examination of cytological specimens can detect the malignant cells either at the time of initial presentation or during follow-up. Cytological examination may be especially useful in screening high-risk population and assessing the response to treatment. 2. Cystourethroscopy and tumor resection - The diagnosis and initial staging of bladder cancer is made by cystoscopy and transurethral resection. 3.Imaging (IVP, CT, MRI) - Although various imaging techniques can detect bladder cancer, its presence is confirmed by cystoscopy & biopsy. - Therefore imaging modalities are used to image the upper urinary tract and, when infiltrating bladder tumors are detected to assess the depth of muscle wall infiltration and the presence of local & distant metastasis. - Intravenous urography remains one of the most common imaging tests for the evaluation of hematuria. However, intravenous pyelography is increasingly being replaced by computed tomography (CT) urography, which is more accurate, for evaluation of the entire abdominal cavity, renal parenchyma, and ureters in patients with hematuria. Bladder tumors may be recognized as pedunculated, radiolucent filling defects projecting into the lumen; nonpapillary, infiltrating tumors may result in fixation or flattening of the bladder wall. 4. Urinary tumor markers - - Several new tests have been developed in order to overcome the shocomings of urinary cytology such as the low sensitivity for low-grade superficial tumors and inter-observer variability. - Commercially available tests include, the BTA test, the BTA stat test, the BTA TRAK assay determination of urinary nuclear matrix protein (NMP22), Immunocyt and UroVysion . - These tests can detect cancer specific proteins in urine (BTA/NMP22) or augment cytology by identifying cell surface or cytogenetic markers in the nucleus. Other tests under investigation include identification of the Lewis X antigen on exfoliated urothelial cells, and the determination of telomerase activity in exfoliated cells. - These tests have been demonstrated to enhance detection of bladder cancer when used either individually or in combination with cytology. They have been used to detect both new index tumors as well as recurrent tumors.', 'subject_name': 'Surgery', 'topic_name': None}\n",
      "----------------------------------------\n",
      "Data item 15 has None values in the following fields: ['exp', 'topic_name']\n",
      "Data item content: {'id': 'fabd82e2-8b86-429a-8adb-ac46dde1aba6', 'question': 'With which of the following receptors theophylline has an antagonistic interaction ?', 'opa': 'Histamine receptors', 'opb': 'Bradykinin receptors', 'opc': 'Adenosine receptors', 'opd': 'Imidazoline receptors', 'cop': 2, 'choice_type': 'single', 'exp': None, 'subject_name': 'Pharmacology', 'topic_name': None}\n",
      "----------------------------------------\n",
      "Data item 18 has None values in the following fields: ['topic_name']\n",
      "Data item content: {'id': '26ac2e3d-bbd7-44d6-968a-feeb54cf1a92', 'question': 'The process of hardening a cement matrix through hydration with oral fluids  to achieve greater mechanical strength is known as:', 'opa': 'Maturation', 'opb': 'Setting', 'opc': 'Hardening', 'opd': 'Mineralization', 'cop': 0, 'choice_type': 'single', 'exp': 'Maturation (cement)—The process of hardening a cement matrix through hydration with oral fluids\\xa0to achieve greater mechanical strength.\\nRef: Phillip’s Science of Dental Materials ed 12 pg 309', 'subject_name': 'Dental', 'topic_name': None}\n",
      "----------------------------------------\n",
      "Data item 21 has None values in the following fields: ['topic_name']\n",
      "Data item content: {'id': '2583b8c8-aeaa-47c0-86fb-5efc9f386de6', 'question': 'Position of vocal cord in cadaver is:', 'opa': 'Median', 'opb': 'Paramedian', 'opc': 'Intermediate', 'opd': 'Full Abduction', 'cop': 2, 'choice_type': 'single', 'exp': 'The vocal fold of the excised larynx is known to be located at an intermediate position(the so-called cadaver position).', 'subject_name': 'ENT', 'topic_name': None}\n",
      "----------------------------------------\n",
      "Data item 22 has None values in the following fields: ['exp', 'topic_name']\n",
      "Data item content: {'id': 'e9038cb9-56db-473d-9d3f-440f130295ec', 'question': 'Organisms that has not been cultured successfully so far is-', 'opa': 'Leptospira', 'opb': 'Treponema pallidum', 'opc': 'Bordetella', 'opd': 'Staphylococcus', 'cop': 1, 'choice_type': 'multi', 'exp': None, 'subject_name': 'Microbiology', 'topic_name': None}\n",
      "----------------------------------------\n",
      "Data item 26 has None values in the following fields: ['topic_name']\n",
      "Data item content: {'id': 'a822c6ea-6cfd-44c1-890f-6fac4b97e16d', 'question': 'Which of the following agents is most commonly associated with recurrent meningitis due to CSF leaks?', 'opa': 'Meningococci', 'opb': 'Pneumococci', 'opc': 'Hemophilus Influenza', 'opd': 'E. Coli', 'cop': 1, 'choice_type': 'single', 'exp': 'Intracranial CSF leaks cause bacterial meningitis, about 80% are caused by S. Pneumoniae. Other causative organisms are meningococcus, Hemophilus species and S.aurues. Ref: Clinical Pediatric Neurology By Ronald B. David, Page 217', 'subject_name': 'Pediatrics', 'topic_name': None}\n",
      "----------------------------------------\n",
      "Data item 28 has None values in the following fields: ['topic_name']\n",
      "Data item content: {'id': '108ff605-0712-4a5b-8a74-aa8cbefc3d07', 'question': 'What is the best method of informing the rural population about Oral rehydration technique: March 2013 (d, f)', 'opa': 'Chalk and talk/Lecture', 'opb': 'Demonstrations', 'opc': 'Role play', 'opd': 'Flash cards', 'cop': 1, 'choice_type': 'single', 'exp': 'Ans. B i.e. Demonstrations Demonstration involves showing by reason or proof explaining or making clear by use of examples or experiments. Put more simply, demonstration means to clearly show', 'subject_name': 'Social & Preventive Medicine', 'topic_name': None}\n",
      "----------------------------------------\n",
      "Data item 29 has None values in the following fields: ['exp', 'topic_name']\n",
      "Data item content: {'id': '24b17b1d-0dac-4da1-b215-22451784b9b6', 'question': 'Lymph vessel which drain the posterior 1/3 rd of the tongue:', 'opa': 'Basal vessel.', 'opb': 'Marginal vessel.', 'opc': 'Central vessel.', 'opd': 'Lateral vessel.', 'cop': 0, 'choice_type': 'single', 'exp': None, 'subject_name': 'Anatomy', 'topic_name': None}\n",
      "----------------------------------------\n",
      "Data item 30 has None values in the following fields: ['topic_name']\n",
      "Data item content: {'id': 'e7f60d58-db4c-4067-981b-2988a9de88ff', 'question': 'Risk factors associated with post-operative nausea and vomiting following strabismus surgery are all except -', 'opa': 'Age < 3years', 'opb': 'Duration of anesthesia > 30 mins', 'opc': 'Personal or family history of post - op nausea and vomiting', 'opd': 'Personal or family history of motion sickness', 'cop': 0, 'choice_type': 'multi', 'exp': \"Ans. is 'a' i.e., Age < 3 years Post operative nausea and vomiting (PONY) following strabismus surgery It can cause post - op wound dehiscence, hematoma, orbital hemorrhage and aspiration. 30 % of all procedures are associated with PONV. Major risk factors are: Age > 3years Duration of anesthesia > 30 mins Personal or family history of post - op nausea and vomiting Personal or family history of motion sickness Medical management of PONV includes: dimenhydrinate, metoclopramide, droperidol, dexamethasone, ondansatron\", 'subject_name': 'Anaesthesia', 'topic_name': None}\n",
      "----------------------------------------\n",
      "Data item 31 has None values in the following fields: ['exp', 'topic_name']\n",
      "Data item content: {'id': '7f11c629-b766-486f-a98e-6de0a2be8ae3', 'question': 'All are True about Acute Osteomyelitis except', 'opa': 'Common in children', 'opb': 'Severe pain', 'opc': 'Involves Epiphyseal plate', 'opd': 'Treatment involves 6 weeks of Antibiotics', 'cop': 2, 'choice_type': 'multi', 'exp': None, 'subject_name': 'Orthopaedics', 'topic_name': None}\n",
      "----------------------------------------\n",
      "Data item 34 has None values in the following fields: ['topic_name']\n",
      "Data item content: {'id': 'd27fbb91-ef90-4092-9175-636be25c357f', 'question': '25 year old patient Suspected to have a pneumoperitoneum. Patient is unable to stand. Best x-ray view is', 'opa': 'Left lateral decubitus view', 'opb': 'Right lateral decubitus view', 'opc': 'Supine', 'opd': 'Prone', 'cop': 0, 'choice_type': 'single', 'exp': 'Left lateral decubitus view demonstrates\\xa0the air between dense shadow of liver and the abdominal wall.', 'subject_name': 'Radiology', 'topic_name': None}\n",
      "----------------------------------------\n",
      "Data item 36 has None values in the following fields: ['topic_name']\n",
      "Data item content: {'id': '836756cc-2b92-483b-a8cc-302b578a9eaa', 'question': 'For TOF management in antenatal period includes ?', 'opa': 'Balloon valvotomy', 'opb': 'Open hea surgery', 'opc': 'Karyotyping', 'opd': 'Aspirin', 'cop': 2, 'choice_type': 'multi', 'exp': \"Ans. is 'c' i.e., KaryotypingTOF has been associated with untreated maternal diabetes, phenylketonuria, and intake of retinoic acid.Associated chromosomal anomalies occur in 30% cases and include trisomies 21, 18, 13 and 22q11 microdeletion, especially in pulmonary atresia and absent pulmonary valve syndrome (APVS).There is also a high association with extra - cardiac anomalies in paicular, abdominal and thoracic abnormalities.When a TOF is diagnosed during fetal life, karyotyping and targeted morphologic ultrasound examination should be offered.Isolated TOF - Good prognosis in TOF with pulmonary stenosis (>90% survival after surgery).However, other forms of TOF such as pulmonary atresia and absent pulmonary valve syndrome do not have a good prognosis (moderate prognosis for pulmonary atresia and bad prognosis for APVS).\", 'subject_name': 'Pediatrics', 'topic_name': None}\n",
      "----------------------------------------\n",
      "Data item 38 has None values in the following fields: ['exp', 'topic_name']\n",
      "Data item content: {'id': '55b3bce3-3a08-4770-a6c6-c416160de22e', 'question': 'If solid line represent the rigid height, then the following diagram with excessive inter arch space is classified in?', 'opa': 'Class - 1', 'opb': 'Class - 2', 'opc': 'Class - 3', 'opd': 'Class - 4', 'cop': 1, 'choice_type': 'single', 'exp': None, 'subject_name': 'Dental', 'topic_name': None}\n",
      "----------------------------------------\n",
      "Data item 39 has None values in the following fields: ['topic_name']\n",
      "Data item content: {'id': '476a3ecd-7c42-4c85-9982-1ce80c95ab82', 'question': 'Pearsonian measure of skewness -', 'opa': 'Mode - Mean/ SD', 'opb': 'Mean - Mode/ SD', 'opc': 'SD/Mode - mean', 'opd': 'Mean - Mode/ SD', 'cop': 1, 'choice_type': 'single', 'exp': \"Ans. is b' i.e., Mean-Mode Measures of Skewness o There are following measures of skewness 1. Karl pearson's measure The formula for measuring skewness is divided into a) absolute measure Skewness = Mean - Mode b) relative measure The relative measure is known as the Coefficient of Skewness and is more frequently used than the absolute measure of skewness. Fuher, when a comparison between two or more distributions is involved, it is the relative measure of Skewness which is used.\", 'subject_name': 'Social & Preventive Medicine', 'topic_name': None}\n",
      "----------------------------------------\n",
      "Data item 40 has None values in the following fields: ['topic_name']\n",
      "Data item content: {'id': '509f300d-f354-48fb-a2c9-fb1a55cb8e00', 'question': 'Following are the causes of sudden loss of vision except ?', 'opa': 'Angle closure glaucoma', 'opb': 'Endophthalmitis', 'opc': 'Central serous retinopathy', 'opd': 'Corneal ulceration', 'cop': 3, 'choice_type': 'multi', 'exp': \"Ans. is 'd' i.e., Corneal ulceration\", 'subject_name': 'Ophthalmology', 'topic_name': None}\n",
      "----------------------------------------\n",
      "Data item 45 has None values in the following fields: ['topic_name']\n",
      "Data item content: {'id': '90c75fdd-c6c6-4320-8411-9a5a750b5c5d', 'question': 'Glucose sympo occurs with:', 'opa': 'Na+', 'opb': 'Ca++', 'opc': 'K+', 'opd': 'Cl-', 'cop': 0, 'choice_type': 'single', 'exp': 'A i.e. Na+', 'subject_name': 'Physiology', 'topic_name': None}\n",
      "----------------------------------------\n",
      "Data item 46 has None values in the following fields: ['exp', 'topic_name']\n",
      "Data item content: {'id': '4fb5da8e-6fa9-4308-829d-bef54d70af7c', 'question': 'All are true about temporal arteritis except -', 'opa': 'Can leads to sudden bilateral blindness', 'opb': 'More corrunon in females', 'opc': 'Worsen on exposure to heat', 'opd': 'Mostly affects elderly', 'cop': 2, 'choice_type': 'multi', 'exp': None, 'subject_name': 'Medicine', 'topic_name': None}\n",
      "----------------------------------------\n",
      "Data item 47 has None values in the following fields: ['exp', 'topic_name']\n",
      "Data item content: {'id': '9595ba1f-bc34-42ab-8603-45961b925ad0', 'question': 'Of the various modalities used in the treatment of re-threatening effects of hyperkalemia which one of the following as the most rapid onset of action ?', 'opa': 'Hemodialysis', 'opb': 'Sodium bicarbonate infusion', 'opc': 'Insulin and glucose infusion', 'opd': 'Intravenous calcium gluconate', 'cop': 0, 'choice_type': 'single', 'exp': None, 'subject_name': 'Medicine', 'topic_name': None}\n",
      "----------------------------------------\n",
      "Data item 52 has None values in the following fields: ['topic_name']\n",
      "Data item content: {'id': 'bf09d252-e987-480b-9a17-fe566ad398b9', 'question': \"Regarding Sjogren's syndrome, all are true except: September 2010\", 'opa': 'Keratoconjuctivitis sicca', 'opb': 'Rheumatoid ahritis', 'opc': 'Epiphora', 'opd': 'Autoimmune in nature', 'cop': 2, 'choice_type': 'multi', 'exp': 'Ans. C: Epiphora SjOgren\\'s syndrome (also known as \"Mikulicz disease\" and \"Sicca syndrome\", is a systemic autoimmune disease in which immune cells attack and destroy the exocrine glands that produce tears and saliva SjOgren\\'s syndrome can exist as a disorder in its own right (Primary Sjogren\\'s syndrome) or it may develop years after the onset of an associated rheumatic disorder such as rheumatoid ahritis, systemic lupus erythematosus, scleroderma, primary biliary cirrhosis etc. (Secondary SjOgren\\'s syndrome)', 'subject_name': 'Ophthalmology', 'topic_name': None}\n",
      "----------------------------------------\n",
      "Data item 53 has None values in the following fields: ['topic_name']\n",
      "Data item content: {'id': 'a79732e1-a0c9-4e81-bce6-fbcacaaab4e7', 'question': 'Best indicator of antemoum drowning is :', 'opa': 'Froth in mouth and nostrils', 'opb': 'Cutis anserina', 'opc': \"Washerman's hand\", 'opd': 'Water in nose', 'cop': 0, 'choice_type': 'single', 'exp': 'A i.e. Fine froth in mouth & nostril', 'subject_name': 'Forensic Medicine', 'topic_name': None}\n",
      "----------------------------------------\n",
      "Data item 54 has None values in the following fields: ['topic_name']\n",
      "Data item content: {'id': '432ce240-2b6c-47aa-afd7-18bd49806239', 'question': 'Splenomegaly may be a feature of: March 2013', 'opa': 'Megaloblastic anemia', 'opb': 'Sickle cell anemia', 'opc': 'Thalassemia', 'opd': 'G6PD deficiency', 'cop': 1, 'choice_type': 'single', 'exp': 'Ans. B i.e. Sickle cell anemia Splenomegaly Splenomegaly refers strictly to spleen enlargement, and is distinct from hyperspineism , which connotes overactive function by a spleen of any size. Splenomegaly and hypersplenism should not be confused. Each may be found separately, or they may coexist. Clinically if a spleen is palpable, it means it is enlarged as it has to undergo enlargement by at least two folds to become palpable. However, the tip of the spleen may be palpable in a newborn baby up to 3 months of age Early sickle cell anemia may present with splenomegaly', 'subject_name': 'Pathology', 'topic_name': None}\n",
      "----------------------------------------\n",
      "Data item 56 has None values in the following fields: ['exp', 'topic_name']\n",
      "Data item content: {'id': '81b24099-1d53-4130-ac61-72364a99d53f', 'question': 'True of case control studies -', 'opa': 'It proceeds from cause to effect', 'opb': 'Odds ratio can be calculated', 'opc': 'Incidence can be calculated', 'opd': 'Needs many patients', 'cop': 1, 'choice_type': 'multi', 'exp': None, 'subject_name': 'Social & Preventive Medicine', 'topic_name': None}\n",
      "----------------------------------------\n",
      "Data item 57 has None values in the following fields: ['topic_name']\n",
      "Data item content: {'id': 'c08137c8-34c0-4f03-9b07-227dfeb8ec8e', 'question': 'All of the following could include the mechanism or function of oxigenases, EXCEPT:', 'opa': 'Incorporate 2 atoms of oxygen', 'opb': 'Incorporate 1 atom of oxygen', 'opc': 'Required for hydroxylation of steroids', 'opd': 'Required for carboxylation of drugs', 'cop': 3, 'choice_type': 'multi', 'exp': \"Carboxylation is a function of carboxylase enzymes which belong to the class of 'Ligases'. It is not a function of oxygenase enzymes. Monoxygenases incorporate one atom of oxygen and play an impoant role in hydroxylation of steroids. Dioxygenases incorporate 2 atoms of oxygen into the substrate. Ref: Harper's Illustrated Biochemistry 27th Edition, Page 96, 97; Enzyme Assays: High-Throughput Screening, Genetic Selection and Fingerprinting edited by Jean-Louis Reymond, 2006, Page 85.\", 'subject_name': 'Biochemistry', 'topic_name': None}\n",
      "----------------------------------------\n",
      "Data item 58 has None values in the following fields: ['topic_name']\n",
      "Data item content: {'id': '95a23ec3-c2d6-40f4-890f-bece76c568cd', 'question': 'According to recent SC judgment, doctor can be charged for medical negligence under 304-A, only if: AIIMS 12', 'opa': 'He is from corporate hospital', 'opb': 'Negligence is from inadveent error', 'opc': 'Simple negligence', 'opd': 'Gross negligence', 'cop': 3, 'choice_type': 'single', 'exp': 'Ans. Gross negligence', 'subject_name': 'Forensic Medicine', 'topic_name': None}\n",
      "----------------------------------------\n",
      "Data item 68 has None values in the following fields: ['topic_name']\n",
      "Data item content: {'id': '236d1eb1-f2e1-43b0-90f3-f88deff358cb', 'question': \"Which of the following is measured by the device, Bellow's spirometer?\", 'opa': 'TLC', 'opb': 'RV', 'opc': 'Closing volume', 'opd': 'ERV', 'cop': 3, 'choice_type': 'single', 'exp': 'The spirometer is a simple device for measuring gas volumes. The frequently used water spirometer, rolling seal spirometer and bellows spirometer. The last two are not water-filled and are more poable. The VT, IRV, ERV, IC, and VC can all be measured with a spirometer (as can the forced expiratory volume in 1 second , forced vital capacity , and forced expiratory flow ). The RV, the FRC, and the TLC, however, cannot be determined with a spirometer because the subject cannot exhale all the gas in the lungs. The lung volumes not measurable with spirometry can be determined by the nitrogen-washout technique, by the helium-dilution technique, and by body plethysmography. The FRC is usually determined, and RV (which is equal to FRC minus ERV) and the TLC (which is equal to VC plus RV) are then calculated from volumes obtained by spirometry. Ref: Levitzky M.G. (2007). Chapter 3. Alveolar Ventilation. In M.G. Levitzky (Ed), Pulmonary Physiology, 7e.', 'subject_name': 'Physiology', 'topic_name': None}\n",
      "----------------------------------------\n",
      "Data item 70 has None values in the following fields: ['topic_name']\n",
      "Data item content: {'id': 'f94f9f8f-fb28-44f0-9381-3dca473e305d', 'question': 'Atherosclerosis initiation by fibroblast plaque is mediated by injury to ?', 'opa': 'Smooth muscle', 'opb': 'Media', 'opc': 'Adventitia', 'opd': 'Endothelium', 'cop': 3, 'choice_type': 'single', 'exp': 'Ans. is \\'d\\' i.e., Endothelium The most acceptable hypothesis for the pathogenesis of atherosclerosis is \"the response to injury hypothesis\". According to this hypothesis, atherosclerosis is a chronic inflammatory response of the aerial wall initiated by injury to endothelium. Pathogenesis of atherosclerosis Following stages occurs in the pathogenesis of Atherosclerosis: Endothelial injury Earliest stages of the development of atherosclerosis are mediated by the inflammatory cascade. Inflammation mediated injury to endothelium is the cornestone in the development of atherosclerosis. After injury, endothelium is activated and there is increased expression of adhesion molecule-VCAM-1 and there is increased permeability to endothelium. TNF is the major cytokine to induce this expression. Migration of leukocytes When VCAM-1 is expressed on endothelium, leukocytes adhere to the endothelium. Leukocytes than cross the endothelial barrier and begin to accumulate in subendothelial intimal space. Macrophages engulf LDL cholesterol and form foam cells - formation of earliest lesion, i.e. fatty streak. Macrophages also form oxygen free radicals that cause oxidation of LDL to yield oxidized LDL (modified LDL). Smooth muscle cell migration and proliferation Inflammatory cells in subendothelial intimal space secrete cytokines, mainly PDGF, TGF-ct and FGF which cause migration of smooth muscle cells from media to subendothelial intimal space as well as their proliferation. Maturation of plaque Smooth muscle cells synthesize extracellular matrix (especially collegen) and conve a fatty streak into a mature fibrofatty atheroma, and contribute to the progressive growth of atherosclerotic lesions.', 'subject_name': 'Pathology', 'topic_name': None}\n",
      "----------------------------------------\n",
      "Data item 71 has None values in the following fields: ['topic_name']\n",
      "Data item content: {'id': 'bdf94942-49c0-4d9a-b990-a7bfb7099857', 'question': 'The WBC that is considered “second line of defence” is:', 'opa': 'Neutrophil', 'opb': 'Eosinophil', 'opc': 'Basophil', 'opd': 'Monocyte', 'cop': 3, 'choice_type': 'single', 'exp': 'Monocyte is considered as the second line of defence.\\n\\xa0\\nPhagocytosis by Macrophages.\\nMacrophages are the end-stage product of monocytes that enter the tissues from the blood. When activated by the immune system, they are much more powerful phagocytes than neutrophils, often capable of phagocytizing as many as 100 bacteria. They also have the ability to engulf much larger particles, even whole RBCs or, occasionally, malarial parasites, whereas neutrophils are not capable of phagocytizing particles much larger than bacteria. Also, after digesting particles, macrophages can extrude the residual products and often survive and function for many more months.\\nReference: GUYTON AND HALL TEXTBOOK OF MEDICAL PHYSIOLOGY, THIRTEENTH EDITION(INTERNATIONAL EDITION ) page no 458', 'subject_name': 'Physiology', 'topic_name': None}\n",
      "----------------------------------------\n",
      "Data item 73 has None values in the following fields: ['topic_name']\n",
      "Data item content: {'id': '2b7ff41e-66e4-467a-97ec-9ea4e5e98cbc', 'question': 'Determination of Pulp vitality by pulse oximeter based on:', 'opa': \"Beer's law.\", 'opb': \"Pascal's law.\", 'opc': 'Doppler law.', 'opd': 'Poisslues law.', 'cop': 0, 'choice_type': 'single', 'exp': 'Pulse oxymetry-\\n\\nBased on Beer Lambert law\\nUtilization of a probe that transmits red (640 mm) and\\xa0infrared light\\nPhoto detector as a receptor site\\nDifferent absorption ability of light by oxygenated and\\xa0deoxygenated haemoglobin leads to changes in the\\xa0amount of light differently absorbed by the vascular bed\\xa0before reaching the photo detector.', 'subject_name': 'Dental', 'topic_name': None}\n",
      "----------------------------------------\n",
      "Data item 74 has None values in the following fields: ['exp', 'topic_name']\n",
      "Data item content: {'id': 'c5165fb3-3a59-49ed-9de0-4dbbced2cf08', 'question': 'An Isograft indicates transfer of tissues between -', 'opa': 'Unrelated donors', 'opb': 'Related donors', 'opc': 'Monozygotic twins', 'opd': 'From the same individual', 'cop': 2, 'choice_type': 'single', 'exp': None, 'subject_name': 'Surgery', 'topic_name': None}\n",
      "----------------------------------------\n",
      "Data item 76 has None values in the following fields: ['topic_name']\n",
      "Data item content: {'id': 'b15c5039-0f3c-4195-8331-35b9632899c7', 'question': 'Hypersecretory glaucoma is seen in –', 'opa': 'Epidemic dropsy', 'opb': \"Marfan's syndrome\", 'opc': 'Hypertension', 'opd': 'Diabetes', 'cop': 0, 'choice_type': 'single', 'exp': '\"In epidemic dropsy, glaucoma is wide angle glaucoma, with normal chamber and angle. Outflow is within normal limits. The queous shows raised level of histamin, prostaglandin and protein suggesting that glaucoma is hypersecretory\". _\\xa0Mukherjee', 'subject_name': 'Ophthalmology', 'topic_name': None}\n",
      "----------------------------------------\n",
      "Data item 79 has None values in the following fields: ['topic_name']\n",
      "Data item content: {'id': '6a19df3c-6af0-4673-8e2b-02d86ddc7523', 'question': 'Which of the following muscle is not a hybrid muscle', 'opa': 'Pectoralis major', 'opb': 'Extensor digitorum', 'opc': 'Flexor digitorum profundus', 'opd': 'Brachialis', 'cop': 1, 'choice_type': 'single', 'exp': 'Extensor digitorum Hybrid muscles are the muscles having more than one nerve supply Pctoralis major: lateral & medial pectoral nerves Brachialis: additional proprioceptive fibres from radial nerve, in addition to its muscular nerve, musculocutaneous nerve. Extensor digitorum is supplied by the posterior interosseous nerve only.', 'subject_name': 'Surgery', 'topic_name': None}\n",
      "----------------------------------------\n",
      "Data item 80 has None values in the following fields: ['topic_name']\n",
      "Data item content: {'id': '161fc4a5-e9fb-44c6-9a4b-2d734cf01ebc', 'question': 'Delayed union of fracture of a bone follo-wing a surgical treatment may be due to', 'opa': 'Infection', 'opb': 'Inadequate circulation', 'opc': 'Inadequate mobilization', 'opd': 'All of the above', 'cop': 3, 'choice_type': 'multi', 'exp': 'D i.e. All', 'subject_name': 'Surgery', 'topic_name': None}\n",
      "----------------------------------------\n",
      "Data item 83 has None values in the following fields: ['topic_name']\n",
      "Data item content: {'id': 'd000623f-eba6-4e64-8cc0-3ed932403fce', 'question': 'Foam cells are seen in infection with which virus ?', 'opa': 'Measles', 'opb': 'EBV', 'opc': 'Molluscum contagiosum', 'opd': 'RSV', 'cop': 1, 'choice_type': 'single', 'exp': \"Ans. is 'b' i.e., EBV EBV encephalomyelitis shows :Abnormal white matter with perivascular infiltrates of inflammatory cells and foam cells.Some myelin is replaced by lipid-filled macrophages and hyperplastic astrocytes.\", 'subject_name': 'Microbiology', 'topic_name': None}\n",
      "----------------------------------------\n",
      "Data item 84 has None values in the following fields: ['exp', 'topic_name']\n",
      "Data item content: {'id': 'fc374693-12de-4ca4-8854-34bd1a9c686b', 'question': 'During extraction of the upper first molar, the mesio buccal root is missing and is suspected to have been pushed into the maxillary sinus.\\nThe best position for the patient immediately after the incident is', 'opa': 'To position the patient upright', 'opb': 'To position the patients in a semi inclined posture to visualize the perforation', 'opc': 'Trendelenberg position', 'opd': 'Reverse trendelenberg position', 'cop': 0, 'choice_type': 'single', 'exp': None, 'subject_name': 'Surgery', 'topic_name': None}\n",
      "----------------------------------------\n",
      "Data item 93 has None values in the following fields: ['topic_name']\n",
      "Data item content: {'id': 'f6c9fd05-bcda-4397-bcaa-a17d65107ad3', 'question': 'A 12-year-old girl presents to the casualty with symptoms of fever, shoness of breath, and cough. A chest X-ray reveals complete consolidation of the lower lobe of the left lung. Cultures of the lower lobe of the left lung would most likely reveal which organism?', 'opa': 'Streptococcus pneumoniae', 'opb': 'Staphylococcus aureus', 'opc': 'Klebsiella pneumoniae', 'opd': 'Pseudomonas aeruginosa', 'cop': 0, 'choice_type': 'single', 'exp': 'The history and findings are consistent with a lobar pneumonia. The most common etiologic agent of lobar pneumonia is Streptococcus pneumoniae. ESSENTIALS OF DIAGNOSIS Productive cough, fever, rigors, dyspnea, early pleuritic chest pain Consolidating lobar pneumonia on chest radiograph Lancet-shaped gram-positive diplococci on Gram stain of sputum Ref: Papadakis MA, McPhee SJ, \"Pneumonia, Pneumococcal.\" Quick Medical Diagnosis & Treatment', 'subject_name': 'Microbiology', 'topic_name': None}\n",
      "----------------------------------------\n",
      "Data item 94 has None values in the following fields: ['topic_name']\n",
      "Data item content: {'id': '19de7ff4-cb68-4c51-afe3-07a425f20c91', 'question': 'IgA deposits on skin biopsy', 'opa': 'Henoch Schouleiln puspura', 'opb': 'Giant cell aeritis', 'opc': 'Microscopic polyangitis', 'opd': \"Wegener's granulomatosis\", 'cop': 0, 'choice_type': 'single', 'exp': 'A.i.e. Henosch Schonlein purpura', 'subject_name': 'Skin', 'topic_name': None}\n",
      "----------------------------------------\n",
      "Data item 95 has None values in the following fields: ['exp', 'topic_name']\n",
      "Data item content: {'id': '8705fb60-c237-4804-a9cf-8adbb631bcd3', 'question': \"A Dentin 'Primer'?\", 'opa': 'Etches the dentin', 'opb': 'It increases the surface energy & wets the dentin surface', 'opc': 'Removes the smear layer', 'opd': 'Conditions the dentin', 'cop': 1, 'choice_type': 'single', 'exp': None, 'subject_name': 'Dental', 'topic_name': None}\n",
      "----------------------------------------\n",
      "Data item 96 has None values in the following fields: ['topic_name']\n",
      "Data item content: {'id': 'd0b35238-78a6-454d-9bc9-65180db85bbb', 'question': 'Which of the following hormonal activity is expected immediately prior to Ovulation?', 'opa': 'LH surge', 'opb': 'FSH surge', 'opc': 'Progestrone surge', 'opd': 'Estrogen surge', 'cop': 0, 'choice_type': 'single', 'exp': 'Ovulation occurs due to the effect of increased concentration of LH. In the pre-ovulatory phase of the menstrual cycle, the ovarian follicle will undergo a series of transformations called cumulus expansion, which is stimulated by FSH. This is followed by LH surge.', 'subject_name': 'Physiology', 'topic_name': None}\n",
      "----------------------------------------\n",
      "Data item 97 has None values in the following fields: ['topic_name']\n",
      "Data item content: {'id': 'e2e8a056-13c0-457f-945f-da4fdb9afbd6', 'question': 'Following are fibrous joints :', 'opa': 'Pubic symphysis', 'opb': 'Fronto parietal suture', 'opc': 'Manubrio sternal joint', 'opd': 'Inf. radio ulnar joint', 'cop': 1, 'choice_type': 'single', 'exp': 'B. i.e. Frontoparietal sutureSkull sutures (except sphen-occipital), vomer- sphenoid rostrum schindylesisQ, inferior tibiofibular syndesmosis and dentoalveolar gomphosis (tooth socket) joints are fibrous joints. A Schindylesis is a specialized suture where a rigid bone fits into a groove on a neighbouring element eg a cleft between the alae of vomer, which receives the rostrum of the sphenoid. (i.e. vomer - sphenoidal rostrum junction)Q- Epiphyseo-diaphyseal growth plateQ, costochondral, 1st chondrosternal and sphenoocipital joints are synchondrosis/ syncendrosis or primary cailaginous joints; whereas, symphysis pubis, symphysis menti, sacrococcygeal, interveebral and manubriosternal jointsQ are symphyses or secondary cailaginous joints.Aicular cailage of most (not all) synol joints are lined by hyaline cailage Q. In some synol joints the cavity is paially or completely subdivided into two by an aicular disc, made up of fibrocailage eg. Temporomadibular jt, sternoclavicular jt, menisci of knee joint. More mobile the joint the more commonly it discloates eg shoulder jtQ. MCP Jt. is a condylar - synol joint', 'subject_name': 'Anatomy', 'topic_name': None}\n",
      "----------------------------------------\n",
      "Data item 98 has None values in the following fields: ['topic_name']\n",
      "Data item content: {'id': 'df59eac7-87b1-4805-9c47-0caf96a3450d', 'question': 'For exhumation the order should be passed by -', 'opa': 'Chief judicial magistrate', 'opb': 'Executive magistrate', 'opc': 'Police officer', 'opd': 'Session judge', 'cop': 1, 'choice_type': 'single', 'exp': 'The body is exhumed only when, there is written order from the executive magistrate.', 'subject_name': 'Forensic Medicine', 'topic_name': None}\n",
      "----------------------------------------\n",
      "Data item 99 has None values in the following fields: ['topic_name']\n",
      "Data item content: {'id': 'aeb420c2-ede8-48bc-9400-a5ae531f15ee', 'question': 'The radiograph of a 32 year old patient is shown below. The patient is asymptomatic and the lesion revealed in the\\xa0radiograph is an accidental finding. The most likely diagnosis is:', 'opa': 'Stafne’s bone cavity', 'opb': 'Radicular Cyst', 'opc': 'Dentigerous cyst', 'opd': 'Lateral periodontal cyst', 'cop': 0, 'choice_type': 'single', 'exp': 'Radiological signs:\\nThe lesion presents as a chance radiographic finding. It is a round or an ovoid (<3 cm) uniform radiolucency with a well-defined, usually corticated, margin. Stafne’s bone cavity is non-expansile and is found below the mandibular canal just anterior to the angle of the mandible. The location of Stafne’s bone cavity distinguishes it from odontogenic lesions, whose origin is within the alveolar bone.', 'subject_name': 'Radiology', 'topic_name': None}\n",
      "----------------------------------------\n"
     ]
    }
   ],
   "source": [
    "for i, item in enumerate(dataset):\n",
    "    none_fields = [key for key, value in item.items() if value is None]\n",
    "    \n",
    "    if none_fields:\n",
    "        print(f\"Data item {i} has None values in the following fields: {none_fields}\")\n",
    "        print(f\"Data item content: {item}\")\n",
    "        print(\"-\" * 40)"
   ]
  }
 ],
 "metadata": {
  "kernelspec": {
   "display_name": "llm_uncer",
   "language": "python",
   "name": "python3"
  },
  "language_info": {
   "codemirror_mode": {
    "name": "ipython",
    "version": 3
   },
   "file_extension": ".py",
   "mimetype": "text/x-python",
   "name": "python",
   "nbconvert_exporter": "python",
   "pygments_lexer": "ipython3",
   "version": "3.9.20"
  }
 },
 "nbformat": 4,
 "nbformat_minor": 2
}
